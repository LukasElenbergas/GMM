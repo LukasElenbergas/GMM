{
 "cells": [
  {
   "cell_type": "markdown",
   "metadata": {},
   "source": [
    "# TEAM GMM PROJECT\n",
    "*Lukas Elenbergas, **1712238***\n",
    "\n",
    "*Team Name: **Solo Mission***\n",
    "\n",
    "*Task: **Music Generation***\n",
    "https://www.kaggle.com/datasets/googleai/musiccaps"
   ]
  },
  {
   "cell_type": "code",
   "execution_count": null,
   "metadata": {},
   "outputs": [],
   "source": [
    "# ---------------------------------------------------\n",
    "# IMPORTS\n",
    "# ---------------------------------------------------\n",
    "import os\n",
    "import torch\n",
    "import gradio as gr\n",
    "from Helpers import train\n",
    "from Helpers import download_musiccaps_modified\n",
    "from datasets import load_dataset\n",
    "from audiocraft.models import MusicGen\n",
    "from audiocraft.data.audio import audio_write\n",
    "# ---------------------------------------------------\n",
    "# ENVIRONMENT VARIABLES\n",
    "# ---------------------------------------------------\n",
    "BANDS_TO_GENERATE = [\n",
    "    'Queens of the Stone Age', \n",
    "    'King Gizzard and the Lizard Wizard', \n",
    "    'The Beatles', \n",
    "    'Metallica', \n",
    "    'Radiohead', \n",
    "    'Ghost', \n",
    "    'Lil Nas X', \n",
    "    'ACDC', \n",
    "    'Doja Cat', \n",
    "    '100 gecs'\n",
    "]\n",
    "# ---------------------------------------------------"
   ]
  },
  {
   "cell_type": "markdown",
   "metadata": {},
   "source": [
    "# MusicCaps - Dataset Creation\n",
    "\n",
    "MusicCaps dataset implementation based on: https://github.com/nateraw/download-musiccaps-dataset"
   ]
  },
  {
   "cell_type": "code",
   "execution_count": 1,
   "metadata": {},
   "outputs": [],
   "source": [
    "# ---------------------------------------------------\n",
    "# MUSICCAPS DATASET INIT\n",
    "# ---------------------------------------------------\n",
    "music_caps = download_musiccaps_modified.main(\n",
    "    'C:\\\\Projects\\\\GMM\\\\Music',        \n",
    "    num_proc=16,\n",
    ")\n",
    "# ---------------------------------------------------"
   ]
  },
  {
   "cell_type": "code",
   "execution_count": 2,
   "metadata": {},
   "outputs": [],
   "source": [
    "# ---------------------------------------------------\n",
    "# USED TO CHECK WHICH VIDEOS DO NOT EXIST ANYMORE\n",
    "# ---------------------------------------------------\n",
    "required = False\n",
    "\n",
    "if required:\n",
    "    ds = load_dataset('google/MusicCaps', split='train')\n",
    "    non_existent_yt = []\n",
    "\n",
    "    for sample in ds:\n",
    "        output_filename = 'C:\\\\Projects\\\\GMM\\\\Music\\\\' + sample['ytid'] + '.wav'\n",
    "        if not os.path.exists(output_filename):\n",
    "            non_existent_yt.append(sample['ytid'])\n",
    "\n",
    "    print(non_existent_yt)\n",
    "# ---------------------------------------------------"
   ]
  },
  {
   "cell_type": "markdown",
   "metadata": {},
   "source": [
    "How a dataset sample looks:\n",
    "\n",
    "{\n",
    "\n",
    "        'ytid': '-0Gj8-vB1q4'\n",
    "        'start_s': 30, \n",
    "        'end_s': 40, \n",
    "        'audioset_positive_labels': '/m/0140xf,/m/02cjck,/m/04rlf', \n",
    "        'aspect_list': '[\n",
    "            'low quality', \n",
    "            'sustained strings melody', \n",
    "            'soft female vocal', \n",
    "            'mellow piano melody', \n",
    "            'sad', \n",
    "            'soulful', \n",
    "            'ballad'\n",
    "            ]', \n",
    "        'caption': 'The low quality recording features a ballad song that contains sustained strings, mellow piano melody and soft female vocal singing over it. It sounds sad and soulful, like something you would hear at Sunday services.', \n",
    "        'author_id': 4, \n",
    "        'is_balanced_subset': False, \n",
    "        'is_audioset_eval': True, \n",
    "        'audio': \n",
    "        {\n",
    "            'path': 'C:\\\\Projects\\\\GMM\\\\MusicData\\\\-0Gj8-vB1q4.wav', \n",
    "            'array': array([-0.00193254,  0.00109734,  0.00309335, ..., -0.01940443,-0.02377406,  0.]),\n",
    "            'sampling_rate': 44100\n",
    "        }, \n",
    "        'download_status': True\n",
    "        \n",
    "}"
   ]
  },
  {
   "cell_type": "code",
   "execution_count": 3,
   "metadata": {},
   "outputs": [],
   "source": [
    "# ---------------------------------------------------\n",
    "# SAMPLE EXPLORATION VIA GRADIO\n",
    "# ---------------------------------------------------\n",
    "explore = False\n",
    "\n",
    "def get_example(idx):\n",
    "    ex = music_caps[idx]\n",
    "    return ex['audio']['path'], ex['caption']\n",
    "\n",
    "if explore:\n",
    "    gr.Interface(\n",
    "        get_example,\n",
    "        inputs=gr.Slider(0, len(music_caps) - 1, value=0, step=1),\n",
    "        outputs=['audio', 'textarea'],\n",
    "        live=True\n",
    "    ).launch()\n",
    "# ---------------------------------------------------"
   ]
  },
  {
   "cell_type": "markdown",
   "metadata": {},
   "source": [
    "# MusicGen - Training and Initialization\n",
    "\n",
    "Using the AudioCraft library for the MusicGen model: https://github.com/facebookresearch/audiocraft\n"
   ]
  },
  {
   "cell_type": "code",
   "execution_count": 4,
   "metadata": {},
   "outputs": [],
   "source": [
    "# ---------------------------------------------------\n",
    "# TRAINING INIT\n",
    "# ---------------------------------------------------\n",
    "train = False\n",
    "\n",
    "if train:\n",
    "    train.train(\n",
    "        init_dataset=music_caps,\n",
    "        model_id='small',\n",
    "        lr=1e-3,\n",
    "        epochs=15,\n",
    "        use_wandb=False,\n",
    "        grad_acc=1,\n",
    "        batch_size=4,\n",
    "    )\n",
    "# ---------------------------------------------------"
   ]
  },
  {
   "cell_type": "code",
   "execution_count": 5,
   "metadata": {},
   "outputs": [],
   "source": [
    "# ---------------------------------------------------\n",
    "# MODEL INIT AND LOAD\n",
    "# ---------------------------------------------------\n",
    "model = MusicGen.get_pretrained('small', device='cpu')\n",
    "model.lm.load_state_dict(torch.load('Models/lm_final_init.pt'))\n",
    "model.set_generation_params(duration=10)\n",
    "# ---------------------------------------------------"
   ]
  },
  {
   "cell_type": "markdown",
   "metadata": {},
   "source": [
    "# OpenAI GPT-3.5 - Band Description Generation"
   ]
  },
  {
   "cell_type": "code",
   "execution_count": null,
   "metadata": {},
   "outputs": [],
   "source": [
    "# ---------------------------------------------------\n",
    "#\n",
    "# ---------------------------------------------------\n",
    "\n",
    "# ---------------------------------------------------"
   ]
  },
  {
   "cell_type": "markdown",
   "metadata": {},
   "source": [
    "# Sample Generation"
   ]
  },
  {
   "cell_type": "code",
   "execution_count": 7,
   "metadata": {},
   "outputs": [],
   "source": [
    "# ---------------------------------------------------\n",
    "#\n",
    "# ---------------------------------------------------\n",
    "band = 'Queens of the Stone Age'\n",
    "description = 'Hard-hitting, riff-driven rock with a dose of desert swagger.'\n",
    "wav = model.generate(description)\n",
    "\n",
    "path = 'Generated\\\\' + band\n",
    "wav = wav.squeeze(1)\n",
    "audio_write(path, wav, model.sample_rate, strategy='clip')\n",
    "# ---------------------------------------------------"
   ]
  }
 ],
 "metadata": {
  "kernelspec": {
   "display_name": "GMM",
   "language": "python",
   "name": "python3"
  },
  "language_info": {
   "codemirror_mode": {
    "name": "ipython",
    "version": 3
   },
   "file_extension": ".py",
   "mimetype": "text/x-python",
   "name": "python",
   "nbconvert_exporter": "python",
   "pygments_lexer": "ipython3",
   "version": "3.9.17"
  },
  "orig_nbformat": 4
 },
 "nbformat": 4,
 "nbformat_minor": 2
}
